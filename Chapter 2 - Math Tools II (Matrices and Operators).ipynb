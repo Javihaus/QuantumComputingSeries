{
 "cells": [
  {
   "cell_type": "markdown",
   "metadata": {},
   "source": [
    "# Chapter 2 - Math Tools II (Matrices and Operators)"
   ]
  },
  {
   "cell_type": "markdown",
   "metadata": {},
   "source": [
    "The previous chapter was concluded by describing how one could use a vector to describe a quantum state. This was followed by giving the example of the most basic form of quantum information, a qubit. However, given that a quantum computer's function is to manipulate and evolve a qubit's state according to certain instructions (also called algorithms), it would seem obvious that what we learned isn't sufficient enough to describe quantum information. In quantum mechanics, a system's state is evolved by what is called an operator, and similarly to how vectors are used to describe a system's state, matrices are used to describe how that state evolves once acted upon by an operator. <a href=\"https://www.numpy.org\">Numpy</a> will also be used for Python implementations."
   ]
  },
  {
   "cell_type": "markdown",
   "metadata": {},
   "source": [
    "## 2.1 Matrices\n",
    "\n",
    "In Chapter 1, specifically in the sections related to Dirac Notation, vectors were described by either a column or a row matrix, and matrix multiplication was used to describe inner products. This chapter aims at describing Matrices in more detail and aims at explaining everything you would need to know about matrices to complete this series (which is arguably a complete introduction to basic quantum information theory). A matrix is essentially a 2D, or more specifically, a rectangular array of numbers. A matrix $M$, which has dimensions $m$ and $n$, would look like the following:\n",
    "\n",
    "\n",
    "   \\begin{equation}\n",
    "  M = \\begin{pmatrix} M_{11} & M_{12} & \\ldots & M_{1n} \\\\\\ M_{21} & M_{22} & \\ldots & M_{2n} \\\\\\ \\vdots & \\vdots & \\ddots &\\vdots \\\\\\ M_{m1} & M_{m2} & \\ldots & M_{mn}\\end{pmatrix}\n",
    "   \\end{equation}\n",
    "\n",
    "\n",
    "Where the components of the matrix, $M_{ij}$ are numbers (for the sake of this series). If $M_{ij} \\in R$, then the matrix is called a real matrix. Similarly, if $M_{ij} \\in C$, the matrix is called a complex matrix.\n",
    "\n",
    "For example, \n",
    "\n",
    "   \\begin{equation}\n",
    "  M = \\begin{pmatrix} 4 & i & 1 - i \\\\\\ 2 & 0 & 2i\\end{pmatrix}\n",
    "   \\end{equation}\n",
    "   \n",
    "   is a 2x3 complex matrix. $M_{22}$ = 0, $M_{21} = 2$, etc. \n",
    "   \n",
    "  ### Operations on matrices\n",
    "  \n",
    "  **Matrix Addition:**\n",
    "  \n",
    "  Condition: Two matrices, $A$ and $B$, with dimensions $m_A \\times n_A$ and $m_B \\times n_b$, can only be added if $m_A = m_B$ and $n_A = n_B$ (i.e if they have the same dimension).\n",
    "\n",
    "  Given that they have the same dimensions, their sum would yield the following:\n",
    "  \n",
    "  \\begin{equation}\n",
    "  C = A + B \\newline C = \\begin{pmatrix} A_{11} & A_{12} & \\ldots & A_{1n} \\\\\\ A_{21} & A_{22} & \\ldots & A_{2n} \\\\\\ \\vdots & \\vdots & \\ddots &\\vdots \\\\\\ A_{m1} & A_{m2} & \\ldots & A_{mn}\\end{pmatrix} + \\begin{pmatrix} B_{11} & B_{12} & \\ldots & B_{1n} \\\\\\ B_{21} & B_{22} & \\ldots & B_{2n} \\\\\\ \\vdots & \\vdots & \\ddots &\\vdots \\\\\\ B_{m1} & B_{m2} & \\ldots & B_{mn}\\end{pmatrix} \\newline C = \\begin{pmatrix} A_{11} + B_{11}  & A_{12} + B_{12} & \\ldots & A_{1n} + B_{1n} \\\\\\ A_{21} + B_{21} & A_{22} + B_{22} & \\ldots & A_{2n} + B_{2n} \\\\\\ \\vdots & \\vdots & \\ddots &\\vdots \\\\\\ A_{m1} + B_{m1} & A_{m2} + B_{m2} & \\ldots & A_{mn} + B_{mn}\\end{pmatrix}\n",
    "  \\end{equation}\n",
    "  \n",
    "  Or in simpler terms, $C$ is a matrix where $C_{ij} = A_{ij} + B_{ij}$. \n",
    "  \n",
    "  **Matrix Subtraction:**\n",
    "  \n",
    "  Condition: Similar to addition, the condition is that the dimensions of matrices $A$ and $B$ are equal\n",
    "  \n",
    "   Given that they have the same dimensions, their difference would yield the following:\n",
    "  \n",
    "  \\begin{equation}\n",
    "  C = A - B \\newline C = \\begin{pmatrix} A_{11} & A_{12} & \\ldots & A_{1n} \\\\\\ A_{21} & A_{22} & \\ldots & A_{2n} \\\\\\ \\vdots & \\vdots & \\ddots &\\vdots \\\\\\ A_{m1} & A_{m2} & \\ldots & A_{mn}\\end{pmatrix} - \\begin{pmatrix} B_{11} & B_{12} & \\ldots & B_{1n} \\\\\\ B_{21} & B_{22} & \\ldots & B_{2n} \\\\\\ \\vdots & \\vdots & \\ddots &\\vdots \\\\\\ B_{m1} & B_{m2} & \\ldots & B_{mn}\\end{pmatrix} \\newline C = \\begin{pmatrix} A_{11} - B_{11}  & A_{12} - B_{12} & \\ldots & A_{1n} - B_{1n} \\\\\\ A_{21} - B_{21} & A_{22} - B_{22} & \\ldots & A_{2n} - B_{2n} \\\\\\ \\vdots & \\vdots & \\ddots &\\vdots \\\\\\ A_{m1} - B_{m1} & A_{m2} - B_{m2} & \\ldots & A_{mn} - B_{mn}\\end{pmatrix}\n",
    "  \\end{equation}\n",
    "  \n",
    "  Or in simpler terms, $C$ is a matrix where $C_{ij} = A_{ij} - B_{ij}$\n",
    "  \n",
    "  \n",
    "  **Scalar Multiplication:**\n",
    "  \n",
    "  Multiplying a scalar $c$ with a matrix $A$ would yield, as with vectors, the same matrix where the components undergo the following transformation: $A_{ij} \\rightarrow c*A_{ij}$, or in other words:\n",
    "  \n",
    "  \\begin{equation}\n",
    "  B = c*A \\newline B = c\\begin{pmatrix} A_{11} & A_{12} & \\ldots & A_{1n} \\\\\\ A_{21} & A_{22} & \\ldots & A_{2n} \\\\\\ \\vdots & \\vdots & \\ddots &\\vdots \\\\\\ A_{m1} & A_{m2} & \\ldots & A_{mn}\\end{pmatrix} \\newline B = \\begin{pmatrix} cA_{11} & cA_{12} & \\ldots & cA_{1n} \\\\\\ cA_{21} & cA_{22} & \\ldots & cA_{2n} \\\\\\ \\vdots & \\vdots & \\ddots &\\vdots \\\\\\ cA_{m1} & cA_{m2} & \\ldots & cA_{mn}\\end{pmatrix}\n",
    "  \\end{equation}\n",
    "  \n",
    "  **Matrix Multiplication:**\n",
    "  \n",
    "  Condition: For two matrices $A$ and $B$ to be multipliable, the following condition must apply: $n_A = m_b$, or in other words, the number of columns in $A$ must be equal to the number of rows in $B$. The result will be an $m_A \\times n_B$ matrix. For example, if one is multiplying a $2 \\times 4$ matrix by a $4 \\times 2$ matrix, it will work out to be a $2 \\times 2$ matrix. \n",
    "  \n",
    "  The result of multiplying an $m \\times n$ with an $n \\times p$ will be\n",
    "  \\begin{equation}\n",
    "  C = AB \\newline C = \\begin{pmatrix} A_{11} & A_{12} & \\ldots & A_{1n} \\\\\\ A_{21} & A_{22} & \\ldots & A_{2n} \\\\\\ \\vdots & \\vdots & \\ddots &\\vdots \\\\\\ A_{m1} & A_{m2} & \\ldots & A_{mn}\\end{pmatrix}\\begin{pmatrix} B_{11} & B_{12} & \\ldots & B_{1p} \\\\\\ B_{21} & B_{22} & \\ldots & B_{2p} \\\\\\ \\vdots & \\vdots & \\ddots &\\vdots \\\\\\ B_{n1} & B_{n2} & \\ldots & B_{np}\\end{pmatrix} \\newline C = \\begin{pmatrix} C_{11} & C_{12} & \\ldots & C_{1p} \\\\\\ C_{21} & C_{22} & \\ldots & C_{2p} \\\\\\ \\vdots & \\vdots & \\ddots &\\vdots \\\\\\ C_{m1} & C_{m2} & \\ldots & C_{mp}\\end{pmatrix}\n",
    "  \\end{equation}\n",
    "  \n",
    "  where $C_{ij} = A_{i1}A_{1j} + A_{i2}A_{2j} + \\ldots A_{in}A_{nj} = \\sum_{k=1}^n A_{ik}A_{kj}$.\n",
    "  \n",
    "  Note that in practice, it is much easier to get the hang of matrix multiplication than to think of it in terms of a generalized formula, so I'd suggest solving a few matrix multiplication problems to understand what this actually means. It is also important to note that matrix multiplication is not commutative (i.e $AB \\neq BA$)\n",
    "  \n",
    "\n",
    "  \n",
    "  **Matrix Division:**\n",
    "  \n",
    "  There isn't such a thing. One could argue that the closest thing to matrix division is multiplying a matrix $A$ by a matrix $B$'s inverse, $B^{-1}$. But that will be spoken about in Section 2.2\n",
    "  \n",
    "  ### Python Implementation"
   ]
  },
  {
   "cell_type": "code",
   "execution_count": 1,
   "metadata": {},
   "outputs": [],
   "source": [
    "#Importing necessary modules: numpy can be used to describe matrices in two ways: np.array and np.matrix\n",
    "#Both were used in Chapter 1, but from now on, we will carry on with np.array\n",
    "#We'll also import a sympy function so that we can visualize matrices in a clearer way. This does not affect any calculation\n",
    "\n",
    "import numpy as np\n",
    "from sympy import Matrix, init_printing\n",
    "\n",
    "#This function uses SymPy to convert a numpy array into a clear matrix image\n",
    "\n",
    "def view(mat):\n",
    "    display(Matrix(mat))"
   ]
  },
  {
   "cell_type": "code",
   "execution_count": 2,
   "metadata": {},
   "outputs": [
    {
     "name": "stdout",
     "output_type": "stream",
     "text": [
      "4x4 Matrix, A =\n",
      " [[ 1  2  3  4]\n",
      " [ 5  6  7  8]\n",
      " [ 9 10 11 12]\n",
      " [13 14 15 16]]\n",
      "\n",
      "\n",
      "Using SymPy, we can make this look clearer, like this:\n"
     ]
    },
    {
     "data": {
      "text/latex": [
       "$\\displaystyle \\left[\\begin{matrix}1 & 2 & 3 & 4\\\\5 & 6 & 7 & 8\\\\9 & 10 & 11 & 12\\\\13 & 14 & 15 & 16\\end{matrix}\\right]$"
      ],
      "text/plain": [
       "Matrix([\n",
       "[ 1,  2,  3,  4],\n",
       "[ 5,  6,  7,  8],\n",
       "[ 9, 10, 11, 12],\n",
       "[13, 14, 15, 16]])"
      ]
     },
     "metadata": {},
     "output_type": "display_data"
    },
    {
     "name": "stdout",
     "output_type": "stream",
     "text": [
      "A_34 =  12\n"
     ]
    }
   ],
   "source": [
    "#Defining Matrices\n",
    "\n",
    "A = np.array([[1,2,3,4],[5,6,7,8],[9,10,11,12],[13,14,15,16]])\n",
    "print('4x4 Matrix, A =\\n', A)\n",
    "\n",
    "print('\\n')\n",
    "\n",
    "print('Using SymPy, we can make this look clearer, like this:')\n",
    "view(A)\n",
    "\n",
    "#Getting individual components\n",
    "#A very important thing to note is that python starts counting from 0, so A[2][3] would give us A_34\n",
    "\n",
    "print('A_34 = ',A[2][3])\n",
    "\n"
   ]
  },
  {
   "cell_type": "code",
   "execution_count": 3,
   "metadata": {},
   "outputs": [
    {
     "name": "stdout",
     "output_type": "stream",
     "text": [
      "A+B =\n"
     ]
    },
    {
     "data": {
      "text/latex": [
       "$\\displaystyle \\left[\\begin{matrix}5 & 2 & 6\\\\4 & 3 & 5\\end{matrix}\\right]$"
      ],
      "text/plain": [
       "Matrix([\n",
       "[5, 2, 6],\n",
       "[4, 3, 5]])"
      ]
     },
     "metadata": {},
     "output_type": "display_data"
    },
    {
     "name": "stdout",
     "output_type": "stream",
     "text": [
      "\n",
      "\n",
      "A-B = \n"
     ]
    },
    {
     "data": {
      "text/latex": [
       "$\\displaystyle \\left[\\begin{matrix}-3 & 2 & -6\\\\-2 & 3 & 3\\end{matrix}\\right]$"
      ],
      "text/plain": [
       "Matrix([\n",
       "[-3, 2, -6],\n",
       "[-2, 3,  3]])"
      ]
     },
     "metadata": {},
     "output_type": "display_data"
    },
    {
     "name": "stdout",
     "output_type": "stream",
     "text": [
      "\n",
      "\n",
      "cA = \n"
     ]
    },
    {
     "data": {
      "text/latex": [
       "$\\displaystyle \\left[\\begin{matrix}5 & 10 & 0\\\\5 & 15 & 20\\end{matrix}\\right]$"
      ],
      "text/plain": [
       "Matrix([\n",
       "[5, 10,  0],\n",
       "[5, 15, 20]])"
      ]
     },
     "metadata": {},
     "output_type": "display_data"
    },
    {
     "name": "stdout",
     "output_type": "stream",
     "text": [
      "\n",
      "\n",
      "AC = \n"
     ]
    },
    {
     "data": {
      "text/latex": [
       "$\\displaystyle \\left[\\begin{matrix}19 & 8\\\\40 & 20\\end{matrix}\\right]$"
      ],
      "text/plain": [
       "Matrix([\n",
       "[19,  8],\n",
       "[40, 20]])"
      ]
     },
     "metadata": {},
     "output_type": "display_data"
    },
    {
     "name": "stdout",
     "output_type": "stream",
     "text": [
      "\n",
      "\n",
      "-2A + 3B = \n"
     ]
    },
    {
     "data": {
      "text/latex": [
       "$\\displaystyle \\left[\\begin{matrix}10 & -4 & 18\\\\7 & -6 & -5\\end{matrix}\\right]$"
      ],
      "text/plain": [
       "Matrix([\n",
       "[10, -4, 18],\n",
       "[ 7, -6, -5]])"
      ]
     },
     "metadata": {},
     "output_type": "display_data"
    }
   ],
   "source": [
    "#Matrix Operation\n",
    "\n",
    "#Defining two 2x3 matrices, A and B, and one scalar, c\n",
    "A = np.array([[1,2,0],[1,3,4]])\n",
    "B = np.array([[4,0,6],[3,0,1]])\n",
    "C = np.array([[1,0],[9,4],[3,2]])\n",
    "c = 5\n",
    "\n",
    "#Addition\n",
    "print('A+B =')\n",
    "view(A+B)\n",
    "print('\\n')\n",
    "\n",
    "#Subtraction\n",
    "print('A-B = ')\n",
    "view(A-B)\n",
    "print('\\n')\n",
    "\n",
    "#Scalar Multiplication\n",
    "print('cA = ')\n",
    "view(c*A)\n",
    "print('\\n')\n",
    "#Multiplication \n",
    "print('AC = ')\n",
    "view(np.matmul(A,C))\n",
    "print('\\n')\n",
    "#Cocktail\n",
    "print('-2A + 3B = ')\n",
    "view(-2*A + 3*B)\n",
    "\n",
    "#Excersise: Examine Multiplication for matrices A and B, where dim(A) =/= dim(B) \n"
   ]
  },
  {
   "cell_type": "markdown",
   "metadata": {},
   "source": [
    "## 2.2 Square Matrices\n",
    "\n",
    "A matrix that has an equal number of rows and columns is called a square matrix. Its dimensions are described as $n \\times n$, where $n$ is what is known as the order of the matrix. For instance, the following matrix is described as a square matrix of order 2:\n",
    "\n",
    "\\begin{equation}\n",
    "\\begin{pmatrix} 1 & 2i \\\\\\ 3 & -1 \\end{pmatrix}\n",
    "\\end{equation}\n",
    "<br>\n",
    "The diagonal of a square matrix is formed from by set of numbers $A_{ii}$. For example, in the order 2 matrix example above, the diagonal has elements 1 and -1 ($A_{11}$ and $A_{22}$) \n",
    " \n",
    " \n",
    " Square matrices are very useful for describing linear transformations such as rotation, as well as getting the area formed by a set of vectors. In quantum information theory, a specific type of square matrix called a unitary matrix is used to describe the operators which act on a statevector to change the amplitudes. \n",
    "  ### Determinant and Trace\n",
    " <br>\n",
    " Determinants and traces are operations that are unique to square matrices. The result of a determinant is a number that affects how \"scaled\" an object is when transformed by a matrix. Similar to matrix multiplication, the general equation of a determinant is usually tedious to look at at first hand, but I'll present the specific cases for $2 \\times 2$ and $3 \\times 3$ matrices.\n",
    " \n",
    " For a $2 \\times 2$ matrix, $A$, one would find the determinant to be:\n",
    " \n",
    " \\begin{equation}\n",
    " det(A) = det\\begin{pmatrix} a & b \\\\\\ c & d \\end{pmatrix} \\newline = ad - bc\n",
    " \\end{equation}\n",
    " \n",
    " For a $3 \\times 3$ matrix, $A$, one would find the determinant to be:\n",
    " \n",
    "  \\begin{equation}\n",
    " det(A) = det\\begin{pmatrix} a & b & c \\\\\\ d & e & f \\\\\\ g & h & i \\end{pmatrix} \\newline = a(ei - hf) - b(di -fg) + c(dh - eg)\n",
    " \\end{equation}\n",
    " \n",
    " This is all the information I'll be giving on determinants because it is the only information required for this series. However, feel free to investigate this at your own speed. \n",
    " \n",
    " <br>\n",
    " \n",
    " A trace of a square matrix is essentially the sum of all its diagonal's components. Formally, it is written as the following:\n",
    " \n",
    " \\begin{equation}\n",
    " Tr(A) = \\sum_{i=1}^n A_{ii}\n",
    " \\end{equation}\n",
    "  \n",
    "  In Section 2.1, we described that matrix multiplication is not always commutative, and that in many cases, $AB \\neq BA$. However, an interesting property is that $Tr(BA) = Tr(AB)$ regardless of whether the matrices commute or not. As the name suggests, matrices commute when $AB = BA$, and don't commute when $AB \\neq BA$.\n",
    "  \n",
    "  \n",
    " ### Diagonal Matrices\n",
    " \n",
    " A diagonal matrix is a special case of a square matrix where every element in the matrix is zero except for its diagonal. The following is an example of a $3 \\times 3$ diagonal matrix:\n",
    " \n",
    " \\begin{equation}\n",
    " \\begin{pmatrix} 1 & 0 & 0 \\\\\\ 0 & 3 & 0 \\\\\\ 0 & 0 & 2+i \\end{pmatrix}\n",
    " \\end{equation}\n",
    " \n",
    " ### Triangular Matrices\n",
    " It is said that the diagonal divides the matrix into two blocks. The upper block, consists of all elements, $A_{ij}$ where $i \\leq j$. Similarly, the lower block consists of all $A_{ij}$ where $i \\geq j$. An upper triangle matrix is any matrix where the upper block consists of any set of numbers and the lower block consits of only zeros. In other words, it is any matrix that takes the following form:\n",
    " \n",
    "   \\begin{equation}\n",
    "  M = \\begin{pmatrix} M_{11} & M_{12} & \\ldots & M_{1n} \\\\\\ 0 & M_{22} & \\ldots & M_{2n} \\\\\\ \\vdots & \\vdots & \\ddots &\\vdots \\\\\\ 0 & 0 & \\ldots & M_{nn}\\end{pmatrix}\n",
    "   \\end{equation}\n",
    "   \n",
    "   Matrix $A$ is a $4 \\times 4$ example:\n",
    "   \n",
    "   \\begin{equation}\n",
    "  M = \\begin{pmatrix} M_{11} & M_{12}  & M_{13} & M_{14} \\\\\\ 0 & M_{22} & M_{23} & M_{24} \\\\\\ 0 & 0 & M_{33} & M_{34} \\\\\\ 0 & 0 & 0 & M_{44}\\end{pmatrix}\n",
    "   \\end{equation}\n",
    "<br>\n",
    "  On the other hand, we also have lower triangle matrices, where $A_{ij} = 0$ if $i>j$. It takes the following form:\n",
    "  \n",
    " <br>\n",
    "  \n",
    "   \\begin{equation}\n",
    "  M = \\begin{pmatrix} M_{11} &0 & \\ldots & 0 \\\\\\ M_{21} & M_{22} & \\ldots & 0 \\\\\\ \\vdots & \\vdots & \\ddots &\\vdots \\\\\\ M_{m1} & M_{m2} & \\ldots & M_{mn}\\end{pmatrix}\n",
    "   \\end{equation}\n",
    "\n",
    "\n",
    "   Matrix $B$ is a $4 \\times 4$ example:\n",
    "    \n",
    "   \\begin{equation}\n",
    "  M = \\begin{pmatrix} M_{11} & 0  & 0 & 0 \\\\\\ M_{21} & M_{22} & 0 & 0 \\\\\\ M_{31} & M_{31} & M_{33} & 0 \\\\\\ M_{41} & M_{42} & M_{43} & M_{44}\\end{pmatrix}\n",
    "   \\end{equation}\n",
    "\n",
    "A diagonal matrix can be viewed as either an upper or lower matrix\n",
    " \n",
    " ### Identity Matrix and Matrix Inversion\n",
    " \n",
    " An identity matrix, $I$, is any matrix where its diagonal elements are all equal to 1 and the rest of the elements are equal to 0. Formally, it could be represented by the Kronicker-Delta function described in Section 1.9 in the following way:\n",
    " \n",
    " \\begin{equation}\n",
    " I_{ij} = \\delta_{ij}\n",
    " \\end{equation}\n",
    " \n",
    " where $\\delta_{ij}$ is\n",
    " \\begin{equation}\n",
    "\\delta_{ij} =\n",
    "    \\begin{cases}\n",
    "            1, &         \\text{if } i=j,\\\\\n",
    "            0, &         \\text{if } i\\neq j.\n",
    "    \\end{cases}\n",
    "\\end{equation}\n",
    "\n",
    "The following is a $3 \\times 3$ identity matrix, $I_3$:\n",
    "\n",
    "\n",
    "\\begin{equation}\n",
    "I_3 = \\begin{pmatrix} 1 & 0 & 0 \\\\\\ 0 & 1 & 0 \\\\\\ 0 & 0 & 1\\end{pmatrix}\n",
    "\\end{equation}\n",
    "\n",
    " \n",
    " One of the most notable properties of the identity matrix is that when any matrix $A$ is multiplied with it,  the results will be the same matrix. In other words, for an $m \\times n$ matrix,\n",
    " \n",
    " \\begin{equation}\n",
    " I_m A = AI_n = A\n",
    " \\end{equation}\n",
    " \n",
    " and for a square matrix, the order of multiplication with the identity won't matter because $n = m$.\n",
    " \n",
    " \n",
    " In Section 1, an important point that was stated is that there is no such this as matrix division but that for square matrices, one can get its inverse $A^{-1}$, where\n",
    " \n",
    "  \\begin{equation}\n",
    "  AA^{-1} = I\n",
    "  \\end{equation}\n",
    "  \n",
    " \n",
    " "
   ]
  },
  {
   "cell_type": "code",
   "execution_count": 4,
   "metadata": {},
   "outputs": [
    {
     "name": "stdout",
     "output_type": "stream",
     "text": [
      "A = \n"
     ]
    },
    {
     "data": {
      "text/latex": [
       "$\\displaystyle \\left[\\begin{matrix}3 & 0 & 2\\\\2 & 0 & -2\\\\0 & 1 & 1\\end{matrix}\\right]$"
      ],
      "text/plain": [
       "Matrix([\n",
       "[3, 0,  2],\n",
       "[2, 0, -2],\n",
       "[0, 1,  1]])"
      ]
     },
     "metadata": {},
     "output_type": "display_data"
    },
    {
     "name": "stdout",
     "output_type": "stream",
     "text": [
      "Tr(A) =  4\n",
      "det(A) 10.000000000000002\n",
      "\n",
      "I = AA^-1 = \n"
     ]
    },
    {
     "data": {
      "text/latex": [
       "$\\displaystyle \\left[\\begin{matrix}1.0 & 0.0 & 0.0\\\\-5.55111512312578 \\cdot 10^{-17} & 1.0 & 0.0\\\\0.0 & 0.0 & 1.0\\end{matrix}\\right]$"
      ],
      "text/plain": [
       "Matrix([\n",
       "[                  1.0, 0.0, 0.0],\n",
       "[-5.55111512312578e-17, 1.0, 0.0],\n",
       "[                  0.0, 0.0, 1.0]])"
      ]
     },
     "metadata": {},
     "output_type": "display_data"
    },
    {
     "name": "stdout",
     "output_type": "stream",
     "text": [
      "The result is the identity. I_21 is approximately zero and is not exactly zero because of some negligable numerical error\n"
     ]
    }
   ],
   "source": [
    "#Defining square matrices\n",
    "\n",
    "A = np.array([[3,0,2], [2,0,-2],[0,1,1]])\n",
    "\n",
    "#Determinant and Trace\n",
    "\n",
    "trA = A.trace()\n",
    "detA = np.linalg.det(A)\n",
    "\n",
    "print('A = ')\n",
    "view(A)\n",
    "\n",
    "print('Tr(A) = ', trA)\n",
    "print('det(A)', detA)\n",
    "\n",
    "print('')\n",
    "#Identity and Inverse\n",
    "\n",
    "Ainv = np.linalg.inv(A)\n",
    "\n",
    "#Multiplying A with its inverse. The result should be the I_3\n",
    "\n",
    "print('I = AA^-1 = ')\n",
    "view(np.matmul(A,Ainv))\n",
    "\n",
    "print('The result is the identity. I_21 is approximately zero and is not exactly zero because of some negligable numerical error')\n",
    "\n",
    "#Excercise: Create a function that identifies whether a square matrix is a diagonal matrix, upper triangle or lower triangle\n"
   ]
  },
  {
   "cell_type": "markdown",
   "metadata": {},
   "source": [
    "## 2.3 Operators\n",
    "\n",
    "As you most likely know, a function is a mathematical object that transforms an input number into an output number. Similarly, an operator is a mathematical object which transforms a function into a whole other function. An example is the derivative, which yields the rate at which a function is changing. The definition of an operator could be extended to vectors. In other word, an operator maps a vector $|v_1>$ to a new vector $|v_2>$. Notationally, this could be written as follows:\n",
    "\n",
    "\\begin{equation}\n",
    "A|v_1> = |v_2>\n",
    "\\end{equation}\n",
    "\n",
    "Where $A$ is an operator, $|v_1>$ is the \"input \" vector and $|v_2>$ is the \"output vector\".\n",
    "\n",
    "In a quantum system, an operator $A|\\psi>$ can represent an observable, which is essentially a physical quantity such as momentum and position. More specifically, an observable must be a linear operator, which we'll speak about soon.\n",
    "\n",
    "### Operator Algebra\n",
    "\n",
    "Let us say we have operators $A$ and $B$ acting on vector $|\\psi>$. The following rules must apply:\n",
    "\n",
    "**Adding operators:**\n",
    "\n",
    "\\begin{equation}\n",
    "(A+B)|\\psi> = A|\\psi> + B|\\psi>\n",
    "\\end{equation}\n",
    "\n",
    "**Multiplying two operators (on state):**\n",
    "\n",
    "\\begin{equation}\n",
    "(AB)|\\psi> = A[B|\\psi>]\n",
    "\\end{equation}\n",
    "\n",
    "**Multiplying three operators:**\n",
    "\n",
    "\\begin{equation}\n",
    "A(BC) = (AB)C\n",
    "\\end{equation}\n",
    "\n",
    "\n",
    "**Commuation:**\n",
    "\\begin{equation}\n",
    "[A,B]|\\psi> = AB|\\psi> - BA|\\psi>\n",
    "\\end{equation}\n",
    "\n",
    "\n",
    "If a $[A,B]|\\psi> = 0$, then the operators commutate and if $[A,B]|\\psi> \\neq 0$, then the operators don't commutate. This is similar to what was mentioned in 2.2. Commutation has a very important physical implication in quantum mechanics that will be described in Chapter 3.\n",
    "\n",
    "\n",
    "### Linear Operators\n",
    "\n",
    "An operator, $A$, was defined to be an object that transforms a vector $|v_1>$ to $|v_2>$. If vectors $|v_1>$ and $|v_2>$ are in the same vector space **V**, then $A$ is said to be a linear operator. Notationally, linear operator $A$,  is represented as follows:\n",
    "\n",
    "\\begin{equation}\n",
    "A|v_1> = |v_2> ; |v_1>, and |v_2> \\in V\n",
    "\\end{equation}\n",
    "<br>\n",
    "If $A$ is a linear operator, than it must have the following properties:\n",
    "\n",
    "      1. A(|u> + |v>) = A|u> + A|v>\n",
    "      2. A(c|u>) = cA|u>\n",
    "and finally, from 1 and 2:\n",
    "      \n",
    "      3. A(c|u> + d|v>) = rA|u> + dA|v> \n",
    "      \n",
    "Where $c$ and $d$ are some constants and $c|u> + d|v>$ is a linear combination. In other words, an operator acting on a linear combination of vectors is equal to a linear combination of the vectors produced by the act of applying the operator on them.  "
   ]
  },
  {
   "cell_type": "code",
   "execution_count": 23,
   "metadata": {},
   "outputs": [
    {
     "name": "stdout",
     "output_type": "stream",
     "text": [
      "g(x) = O[f(x)] = O[2x] = 2*2x + 3 = 4x+3\n",
      "g(3) = 4*3 + 3 =  15\n"
     ]
    }
   ],
   "source": [
    "#Operator of a function where O[f(x)] = f(x)*2 + 3\n",
    "#If you don't know what a lambda function is in Python, check it out here: https://www.w3schools.com/python/python_lambda.asp\n",
    "\n",
    "def operator(f):\n",
    "    newFunc = lambda x: f(x)*2 + 3\n",
    "    return newFunc\n",
    "\n",
    "#g(x) = O[f(x)], where f(x) = 2*x. The result should be 4x + 3\n",
    "#g(3) = 4*3 + 3 = 15\n",
    "\n",
    "\n",
    "g = operator(lambda x: 2*x)\n",
    "\n",
    "print('g(x) = O[f(x)] = O[2x] = 2*2x + 3 = 4x+3')\n",
    "print('g(3) = 4*3 + 3 = ', g(3))\n",
    "\n",
    "#Excercise: Create a derivative(f) operator that gets the derivative of an input function\n",
    "\n"
   ]
  },
  {
   "cell_type": "code",
   "execution_count": 12,
   "metadata": {},
   "outputs": [
    {
     "name": "stdout",
     "output_type": "stream",
     "text": [
      "|u> =  [1 2 3 4]\n",
      "\n",
      "|v> = O|u> =  [ 3  5  7  9 11]\n"
     ]
    }
   ],
   "source": [
    "#Operator of a vector where A|u> = |v>, where v_i = 2 u_i + 3\n",
    "\n",
    "def operator(vec):\n",
    "    newVec = np.array([2*i + 3 for i in range(len(vec)+1)])\n",
    "    return newVec\n",
    "    \n",
    "\n",
    "u = np.array([1,2,3,4])\n",
    "v = operator(u)\n",
    "\n",
    "print('|u> = ', u)\n",
    "print('')\n",
    "print('|v> = O|u> = ', v)\n",
    "\n",
    "#Excersise: Create linChecker(operator) function to check if an operator O is linear or not"
   ]
  },
  {
   "cell_type": "code",
   "execution_count": 88,
   "metadata": {},
   "outputs": [
    {
     "name": "stdout",
     "output_type": "stream",
     "text": [
      "A and B commute!\n"
     ]
    }
   ],
   "source": [
    "#Commutation: Creating a function that checks whether operators A and B commutate on some dummy function f(x) = 2*x\n",
    "\n",
    "#[A,B](2x) =?= 0\n",
    "def commutate(A,B):\n",
    "    f = lambda x: 2*x\n",
    "    if lambda x: A(B(f))(2) == B(A(f))(2):\n",
    "        print('A and B commute!')\n",
    "    else:\n",
    "        print('A and B do not commute!')\n",
    "    \n",
    "        \n",
    "def A(f):\n",
    "    newFunc = lambda x: f(x)**2\n",
    "    return newFunc\n",
    "\n",
    "def B(f):\n",
    "    newFunc = lambda x: np.log(f(x))\n",
    "    return newFunc\n",
    "\n",
    "commutate(A,B)"
   ]
  },
  {
   "cell_type": "markdown",
   "metadata": {},
   "source": [
    "## 2.4 Matrix Representation of Linear Operators"
   ]
  },
  {
   "cell_type": "markdown",
   "metadata": {},
   "source": [
    "## 2.8 Symmetric Matrix"
   ]
  },
  {
   "cell_type": "markdown",
   "metadata": {},
   "source": [
    "## 2.9 Transpose"
   ]
  },
  {
   "cell_type": "markdown",
   "metadata": {},
   "source": [
    "## 2.10 Orthogonal Matrices"
   ]
  },
  {
   "cell_type": "markdown",
   "metadata": {},
   "source": [
    "## 2.11 Identity Operator"
   ]
  },
  {
   "cell_type": "markdown",
   "metadata": {},
   "source": [
    "## 2.12 Adjoint Operator"
   ]
  },
  {
   "cell_type": "markdown",
   "metadata": {},
   "source": [
    "## 2.13 Hermition Operator"
   ]
  },
  {
   "cell_type": "markdown",
   "metadata": {},
   "source": [
    "## 2.14 Unitary Operators"
   ]
  },
  {
   "cell_type": "markdown",
   "metadata": {},
   "source": [
    "## 2.15 Projection Operators"
   ]
  },
  {
   "cell_type": "code",
   "execution_count": null,
   "metadata": {},
   "outputs": [],
   "source": []
  }
 ],
 "metadata": {
  "kernelspec": {
   "display_name": "Python 3",
   "language": "python",
   "name": "python3"
  },
  "language_info": {
   "codemirror_mode": {
    "name": "ipython",
    "version": 3
   },
   "file_extension": ".py",
   "mimetype": "text/x-python",
   "name": "python",
   "nbconvert_exporter": "python",
   "pygments_lexer": "ipython3",
   "version": "3.8.5"
  }
 },
 "nbformat": 4,
 "nbformat_minor": 4
}
