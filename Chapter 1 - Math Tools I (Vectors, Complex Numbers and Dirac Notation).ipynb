{
 "cells": [
  {
   "cell_type": "markdown",
   "metadata": {},
   "source": [
    "# Chapter 1: Math Tools I (Vectors, Complex Numbers and Dirac Notation)"
   ]
  },
  {
   "cell_type": "markdown",
   "metadata": {},
   "source": [
    "The aim of this chapter is not to explain the basics of quantum information theory or quantum mechanics, but it is rather directed towards introducing the language that both of these fields are built on, linear algebra. Both Chapter 1 and Chapter 3 attempt to establish the mathematical foundation necessary to keep up with this (fairly introductory) series. The  module that will be used to demonstrate applications to Python is  <a href=\"https://www.numpy.org\">Numpy</a>.\n",
    "\n",
    "**Note:** While I do attempt to survey these topics briefly enough for one to grasp everything else mentioned in throughout the 8 Chapters, a solid understanding of both vector and matrix algebra is much advised.\n"
   ]
  },
  {
   "cell_type": "markdown",
   "metadata": {},
   "source": [
    "  \n",
    "  ##  1.1 Complex Numbers\n",
    "  A complex number is a number which takes the following form:\n",
    "  \n",
    "  \\begin{equation}\n",
    "  c = a + ib\n",
    "  \\end{equation}\n",
    "  where $a$ and $b$ are real numbers and $i = \\sqrt{-1}$. This type of number represents a real component ($Re(c) = a)$ and an imaginary component ($Im(c) = b$). \n",
    "  \n",
    "  One can say that a complex number behaves exactly like a 2D vector, which raises interesting properties such as the ability to describe a complex number as a point in a 2D complex plane (_i.e_ a plane where the x-axis represents $a$, and the y-axis represents $ib$). \n",
    "  \n",
    "  For example, let us say we have the number, $c = a+bi$. That could be represented by the following:\n",
    "  \n",
    "  <img src=\"assets/argang.png\">\n",
    "  \n",
    "  Another thing one can notice is that both real numbers and imaginary numbers are special cases of complex numbers. A real number is where $b = 0$ and an imaginary is where $a = 0$\n",
    "  \n",
    "  ### Properties of a complex number\n",
    "  \n",
    "  A complex number has two essential properties, Its length and its angle. Looking at the figure above, it should be easy to see that the length of a complex number is $|c| =  \\sqrt{a^2 + b^2}$ (using the pythagorean theorem).\n",
    "  \n",
    "  The angle formed with the x-axis (also called the argument) can be obtained using basic trigonometry. One would find that its value is $\\theta = \\tan^{-1}(b/a)$. \n",
    "  \n",
    "  ### Operations on complex numers\n",
    "  \n",
    "  Let's say we have 2 complex numbers, $c_1 = a + ib $ and $c_2 = d + ie$, and we want to apply basic mathematical operations on these two numbers. One would do that via the following methods:\n",
    "  \n",
    "  **Addition:**\n",
    "  \n",
    "  $c_3 = c_1 + c_2$ <br>\n",
    "  $c_3 = a + ib + d + ie$ <br>\n",
    "  $c_3 = (a+d) + i(b+e)$\n",
    "  \n",
    "  **Subtraction:**\n",
    "  \n",
    "  $c_3 = c_1 - c_2$ <br>\n",
    "  $c_3 = a + ib - d - ie$ <br>\n",
    "  $c_3 = (a-d) + i(b-e)$\n",
    "  \n",
    "   **Multiplitcation:**\n",
    "  \n",
    "  $c_3 = c_1 * c_2$ <br>\n",
    "  $c_3 = (a + ib) * (d + ie)$ <br>\n",
    "  $c_3 = ad + iae + ibd -be$ <br>\n",
    "  $c_3 = (ad-be) + i(ae+bd)$\n",
    "  \n",
    "   **Division:**\n",
    "  \n",
    "  $c_3 = c_1 / c_2$ <br><br>\n",
    "  $c_3 = \\frac{a + ib}{d + ie}$ <br>\n",
    "  $c_3 = \\frac{a + ib}{d + ie} \\frac{d - ie}{d - ie}$ <br><br>\n",
    "   $c_3 = \\frac{(ad+be) + i(ae-bd)}{d^2 + e^2}$\n",
    "   \n"
   ]
  },
  {
   "cell_type": "markdown",
   "metadata": {},
   "source": [
    "   ### Python Implementation"
   ]
  },
  {
   "cell_type": "code",
   "execution_count": 1,
   "metadata": {},
   "outputs": [
    {
     "name": "stdout",
     "output_type": "stream",
     "text": [
      "The Length and Angle of (1+2j) is 2.23606797749979 and 1.1071487177940904\n",
      "Re:  1.0\n",
      "Im:  2.0\n"
     ]
    }
   ],
   "source": [
    "#Importing numpy, a module very useful for all things math!\n",
    "import numpy as np\n",
    "\n",
    "#Python syntax for 1+2i\n",
    "c1 = complex(1,2)\n",
    "\n",
    "#Getting length and angle\n",
    "length_c1 = abs(c1)\n",
    "angle_c1 = np.angle(c1)\n",
    "\n",
    "#Real and imaginary components\n",
    "\n",
    "Re = c1.real\n",
    "Im = c1.imag\n",
    "\n",
    "print(\"The Length and Angle of \" + str(c1), \"is\", str(length_c1), \"and\", str(angle_c1))\n",
    "print('Re: ', Re)\n",
    "print('Im: ', Im)"
   ]
  },
  {
   "cell_type": "code",
   "execution_count": 2,
   "metadata": {},
   "outputs": [
    {
     "name": "stdout",
     "output_type": "stream",
     "text": [
      "Add: (4+6j)\n",
      "Subtract: (-2-2j)\n",
      "Multiply: (-5+10j)\n",
      "Divide: (0.44+0.08j)\n"
     ]
    }
   ],
   "source": [
    "#Operation on 2 complex numbers\n",
    "\n",
    "c1 = complex(1,2)\n",
    "c2 = complex(3,4)\n",
    "\n",
    "add = c1 + c2\n",
    "sub = c1 - c2\n",
    "mult = c1*c2\n",
    "div = c1/c2\n",
    "\n",
    "print(\"Add:\", str(add))\n",
    "print(\"Subtract:\", str(sub))\n",
    "print(\"Multiply:\", str(mult))\n",
    "print(\"Divide:\", str(div))"
   ]
  },
  {
   "cell_type": "markdown",
   "metadata": {},
   "source": [
    "##  1.2 Complex Conjugation \n",
    "\n",
    "The concept of a complex conjugate is very simple, yet it seems to have a very important role in the usage of complex numbers. All the complex conjugate does is it transforms $i$ to $-i$. For example, if we have a complex number $c = a + ib$, its conjugate will be $c^* =  a-ib$. Visually, this can be described as flipping a point in the complex plane upon the x-axis, as shown bellow:\n",
    "\n",
    "  <img src=\"assets/argconj.png\" style=\"width: 200px;\">\n",
    "\n",
    "\n",
    "Looking at the Figure above, one can see that $|c| = |c^*|$ and $\\phi_c = - \\phi_{c^*}$. \n",
    "\n",
    "  \n",
    "  ### Rules of Conjugation\n",
    " \n",
    " **Product of complex number and its conjugate:** \n",
    "  \n",
    "  $cc^* = (a + ib)(a - ib)$ <br>\n",
    "  $cc^* = (a^2 + iab - iab + b^2)$ <br>\n",
    "  $cc^* = a^2 + b^2$ <br>\n",
    "  $cc^* = |c|^2$\n",
    "  \n",
    "  **Product of Conjugates:**\n",
    "  \n",
    "  $(c_1 c_2)^* = c_1 ^* c_2 ^*$\n",
    "  \n",
    "  **Sum of Conjugates:**\n",
    "  \n",
    "  $(c_1 + c_2)^* = c_1 ^* + c_2 ^*$\n",
    "  \n",
    "  **Conjugate of Conjugates:**\n",
    "  \n",
    "  $c^{**} = c$\n",
    "  \n",
    "  \n",
    "  ### Python Implementation"
   ]
  },
  {
   "cell_type": "code",
   "execution_count": 3,
   "metadata": {},
   "outputs": [
    {
     "name": "stdout",
     "output_type": "stream",
     "text": [
      "c1:  (1+1j)\n",
      "c2:  (1-1j)\n",
      "Math works!\n"
     ]
    }
   ],
   "source": [
    "#One can get the conjugate of a complex function using np.conj(). Let's say c2 = c1*\n",
    "\n",
    "c1 = complex(1,1)\n",
    "c2 = np.conj(c1)\n",
    "print('c1: ', str(c1))\n",
    "print('c2: ', str(c2))\n",
    "\n",
    "#Checking to see if product of complex number and conjugate is is length^2\n",
    "\n",
    "cc_conj = c1*c2\n",
    "\n",
    "if abs(cc_conj) == int(abs(c1)**2):\n",
    "    print(\"Math works!\")\n",
    "\n",
    "\n",
    "#Excercise: Test out other rules of conjugation "
   ]
  },
  {
   "cell_type": "markdown",
   "metadata": {},
   "source": [
    "   ##  1.3 Vector Space\n",
    "   \n",
    "Before continuing with the mathematical pre-requisites of basic Quantum Information Theory, allow me to be honest about something. Writing this chapter is very difficult for me. Not because of the high level of technicality required to write about such topics, but rather because I am sacrificing a lot of interesting and beautiful ideas in exchange of practicality and rapidity so that we can move on to the topic of interest on an \"ASAP basis\". The topics of vector spaces and abstract algebra are infinitely more deep and compelling than what I paint their picture to be, so as I said in the introduction, I highly advise looking at other resources. Ok, enough with my rant and back to let's get back to oversimplifying the math.\n",
    "\n",
    "\n",
    "There are several ways of defining a vector. One might introduce them as a <a href=\"https://en.wikipedia.org/wiki/Tensor_(intrinsic_definition)\">Rank 1 Tensor</a>, or as a quantity that has magnitude and direction, but for the sake of this chapter, we shall assume that you understand the basics and introduce it as an element of a vector space. A vector space is a collection of not only vectors, but a field of scalars and two operations, vector addition and scalar multiplication. The number of dimensions of a vector space can vary, and is based on the number of elements a vector in that space has. For instance, classically speaking, the position of a particle is usually described in a 3D vector-space with vector of form $\\vec{r}(x,y,z)$, while relativistically speaking one would rather use what's called a four-vector to describe a particle's dynamics. A four-vector takes the following form: $\\vec{R}(x,y,z,ct)$ or simply $\\vec{R}(\\vec{r},ct)$ (where $c$ is the speed of light and $t$ is time). This is what is meant by space-time. The reason I mention the relativistic case is to show that a vector space can also be a subspace of another vector space. In QIT, vector spaces will be used not to describe a particle's position, but rather the probabilities of qubits being in certain states. If this is not apparent now, it should be in Chapter 4.\n",
    "\n",
    "### Operations\n",
    "\n",
    "**Vector Addition:** Vector addition is the proccess of adding the $i$th component of vectors (i.e $[x_1, x_2, x_3,...x_i] + [y_1,y_2,y_3,...y_i]$ = $[x_1 + y_1, x_2 + y_2,x_3 + y_3...x_i + y_i]$). <br><br> Given that u and v are vectors in vector space **V**, \n",
    "\n",
    "  1. $u + v$ is also a vector in **V**\n",
    "  2. $u + v = v + u$\n",
    "  3. $(u + v) + w = u + (w + v)$\n",
    "  4. There is a $\\vec{0}$ vector in **V**, where $u + \\vec{0} = u$\n",
    "  5. For every $u$ in **V**, there is another vector $-u$, where $u + (-u) = 0$\n",
    "  <br><br><br>\n",
    "  **Scalar Multiplication:** Scalar multiplication is the process of multiplying every item in a vector by a scalar.  (i.e $c*[x_1, x_2, x_3,...x_i]$ = $[c*x_1, c*x_2, c*x_3,...c*x_i]$). <br><br> Given that u and v are vectors in vector space **V** and c and d are  scalars in a field which is also in **V**, \n",
    "\n",
    "  1. $c*u$ is also a vector in **V**\n",
    "  2. $c(u + v) = cv + cu$\n",
    "  3. $c(du) = d(cu)$\n",
    "  4. $(c+d)u = cu + du$\n",
    "  5. $1(u) = u$\n",
    "  <br>\n",
    "\n",
    "### Linear combination\n",
    "\n",
    "   We just stated that in a vector space **V**, there are two operations that can be acted on vectors $u$ and $v$, vector addition (i.e $u+v$) and scalar multiplication (i.e $au$ or $bv$), where $a$ and $b$ are scalars. Any operation which takes the form $ua + bv$ is what is known as a linear combination. Linear combinations are very crucial to the topic of quantum information theory because it is essentially how one represents a superposition, but that will be further discussed later on. "
   ]
  },
  {
   "cell_type": "markdown",
   "metadata": {},
   "source": [
    "### Python Implementation"
   ]
  },
  {
   "cell_type": "code",
   "execution_count": 4,
   "metadata": {},
   "outputs": [
    {
     "name": "stdout",
     "output_type": "stream",
     "text": [
      "List As a vector:\n",
      "Doesn't satisfy the rules of vector addition:  [1, 2, 3] + [1, 2, 3] = [1, 2, 3, 1, 2, 3]\n",
      "Doesn't satisfy the rules of scalar multiplication:  [1, 2, 3] * 3 = [1, 2, 3, 1, 2, 3, 1, 2, 3]\n",
      "\n",
      "1D Numpy array (np.array([vec])) as a vector:\n",
      "Satisfies the rules of vector addition:  [1 2 3] + [1 2 3] = [2 4 6]\n",
      "Satisfies the rules of scalar multiplication:  [1 2 3] * 5 = [ 5 10 15]\n"
     ]
    }
   ],
   "source": [
    "#What not to do: represent a vector by a python list. \n",
    "#Let's see why:\n",
    "\n",
    "print('List As a vector:')\n",
    "notAVector1 = [1,2,3]\n",
    "notAVector2 = [1,2,3]\n",
    "scalar = 3\n",
    "\n",
    "vecAdd = notAVector1 + notAVector2\n",
    "scale = scalar*notAVector1\n",
    "print(\"Doesn't satisfy the rules of vector addition: \", notAVector1, \"+\", notAVector2, \"=\", vecAdd)\n",
    "print(\"Doesn't satisfy the rules of scalar multiplication: \", notAVector1, \"*\", scalar, \"=\", scale)\n",
    "\n",
    "\n",
    "print('')\n",
    "\n",
    "#What to do: Represent vectors as a 1D numpy array\n",
    "#Let's see why:\n",
    "\n",
    "print('1D Numpy array (np.array([vec])) as a vector:')\n",
    "vector1 = np.array([1,2,3])\n",
    "vector2 = np.array([1,2,3])\n",
    "scalar  = 5\n",
    "vecAdd = vector1 + vector2\n",
    "scale = scalar*vector1\n",
    "\n",
    "print(\"Satisfies the rules of vector addition: \", vector1, \"+\", vector2, \"=\", vecAdd)\n",
    "print(\"Satisfies the rules of scalar multiplication: \", vector1, \"*\", scalar, \"=\", scale)\n",
    "\n",
    "\n",
    "#Excercise: Use what we learned about vector spaces to build a python tool for complex numbers \n",
    "#(which can be represented by 2D vectors)\n"
   ]
  },
  {
   "cell_type": "markdown",
   "metadata": {},
   "source": [
    "   ##  1.4 Basis Set \n",
    "   \n",
    "   In the preceding sections, a vector was described as a set of coordinates in an $n$-dimensional vector space. However, That is not the only way to represent a vector. Another notable way to represent vectors is by viewing its components as scalars that act on what is called a set of unit vectors. \n",
    "   \n",
    "   For example, let us take the vector $\\vec{v}(a,b,c)$. Using the basic laws of vector addition and scalar multiplication, we can show that $\\vec{v}$ can be written as the following linear combination:\n",
    "   \n",
    "   \\begin{equation}\n",
    "   \\vec{v}(a,b,c) = a(1,0,0) + b(0,1,0) + c(0,0,1) \n",
    "   \\end{equation}\n",
    "   \n",
    "   \n",
    "where (1,0,0), (0,1,0), (0,0,1) are unit vectors. In 3 dimensions, unit vectors conventionally denoted by $\\hat{i}$, $\\hat{j}$ and $\\hat{k}$, but it could of course extent to any $n$-dimensional vector space, $V$. \n",
    "\n",
    "Formally, a set of unit vectors is defined as an orthonormal basis of $R^n$ (an $n$-dimensional vector space where components can be any real number), but roughly speaking, they could be defined as any subset of $n$ vectors that are all orthogonal to eachother (ortho) and all have a length of 1 (normal). In $R^3$ (i.e the example given above), the unit vectors look like the following:\n",
    "\n",
    "\n",
    "\n",
    "  <img src=\"assets/unit.png\" style=\"width: 300px;\">\n",
    "\n",
    "\n",
    "When first learning about unit vectors, one usually does the mistake of thinking that they are special in the sense that any vector could be written in terms of them. However, the truth is that they are nothing but a special case of a broader set of vectors which all possess the same quality, the quality of being a basis set. In vector space **V**, a subset of vectors are considered basis vectors if they satisfy the following:\n",
    "\n",
    "       1. Any vector in V can be written as a linear combination of the vectors in the basis set\n",
    "       2. No vector in the basis set can be expressed as a linear combination of the other vectors in the basis set\n",
    "       \n",
    "The only special quality that unit vectors possess is their general convenience in representing other vectors.\n",
    "\n",
    "\n",
    "### Finding General Unit Vectors\n",
    "\n",
    "Let's say you have an arbitrary n-dimensional vector, $\\vec{v}$, and you want to find a vector that has the same direction as $\\vec{v}$ but has a length of 1 (i.e its unit vector). You would have to do what is called normalizing the vector, which could be done by scalar multiplying $v$ with the reciprocal of its length, $|v|$. According to the pythagorean theorem, the length (or *norm*) of a vector can be calculated by the following, \n",
    "\n",
    "\\begin{equation}\n",
    "|v| = \\sqrt{\\sum_{i = 1}^{n} v_i ^2}\n",
    "\\end{equation}\n",
    "\n",
    "or the sum of the square of its components.\n",
    "\n",
    "So in a 3 dimensional case, the unit vector of $\\vec{v}$ would be\n",
    "\n",
    "\\begin{equation}\n",
    "\\hat{v} = \\frac{\\vec{v}(v_1,v_2,v_3)}{\\sqrt{v_1 ^2 + v_2 ^2 + v_3 ^2}}\n",
    "\\end{equation}\n",
    "\n",
    "A more general approach to find the norm of a vector is using a vector operation called the inner product, which for real vectors (i.e vectors that are in subspace $R^n$), can be written as the sum of the products of $i$-th components of the two vectors, or\n",
    "\n",
    "\\begin{equation}\n",
    "\\vec{v}.\\vec{u} = \\sum_{i = 1}^{n} v_i* u_i\n",
    "\\end{equation}\n",
    "\n",
    "Notice that the first equation used to calculate the norm is essentially the square root of the inner product of a vector and itself, ergo $|v| = \\sqrt{v.v}$\n",
    "\n",
    "### Inner Product of Complex Vectors \n",
    "\n",
    "In quantum computing, the main purpose of vectors is to represent the state of a qubit (or many qubits). One important thing to note before beginning quantum computing is that, <a href='https://doi.org/10.1119/10.0000258'>for reasons that one might find very elegant</a>, the formulation of quantum mechanics and concequently quantum computing is based on complex numbers and complex vectors rather than real numbers and vectors. A complex vector $\\vec{v} \\in C^N$ can be represented by the following\n",
    "\n",
    "\\begin{equation}\n",
    "v = (v_0, v_1, v_2, ..., v_{N-1})\n",
    "\\end{equation}\n",
    "\n",
    "where $v_i \\in C$ (are complex numbers). The inner product of two vectors was previously defined to be the sum of the \n",
    "product of their corrersponding $i$th components. However, with complex vectors, a more general definition must be given, which is the following: \n",
    "\n",
    "\\begin{equation}\n",
    "\\vec{u}.v = \\sum_{i=0}^{N-1} u^*_i v_i\n",
    "\\end{equation}\n",
    "\n",
    "where $\\vec{u}$ and $\\vec{v}$ are vectors and $u^*_i$ is the complex conjugate of the $i$th component of $\\vec{u}$. One can see that the inner product of real vectors definition stated above is equivelent to the new, general one presented now because $a^* = a$, given that $a \\in R$. Also, the norm of a complex vector is now \n",
    "\n",
    "\\begin{equation}\n",
    "|v| = \\sqrt{\\sum_{i = 0}^{N - 1} v_i^*v_i} = \\sqrt{\\sum_{i = 0}^{N - 1} |v_i|^2 }\n",
    "\\end{equation}\n",
    "\n",
    "Using the first rule of conjugation described in Section 1.2. \n",
    "\n",
    "\n",
    "In the next chapter, a more elegant and useful notation for dealing with complex vectors will be presented. One that is used ubiquitously throughout fields such as quantum mechanics, quantum field theory and most importantly to us, quantum information theory. "
   ]
  },
  {
   "cell_type": "markdown",
   "metadata": {},
   "source": [
    "### Python Implementation "
   ]
  },
  {
   "cell_type": "code",
   "execution_count": 14,
   "metadata": {},
   "outputs": [
    {
     "name": "stdout",
     "output_type": "stream",
     "text": [
      "[0.26726124 0.53452248 0.80178373] is the normalized unit vector of v\n",
      "Math works! Unit vector length is 1\n"
     ]
    }
   ],
   "source": [
    "#Finding the Unit Vector of a vector, v\n",
    "\n",
    "v = np.array([1,2,3])\n",
    "\n",
    "norm = 1/np.sqrt(1**2 + 2**2 + 3**2)\n",
    "\n",
    "unitV = norm*v\n",
    "\n",
    "#Getting the length of unitV. If the math is right, it should be 1\n",
    "lengthUnitV = np.array([i**2 for i in unitV]).sum()\n",
    "\n",
    "#Results\n",
    "print(unitV, 'is the normalized unit vector of v')\n",
    "\n",
    "if lengthUnitV == 1:\n",
    "    print('Math works! Unit vector length is 1')\n",
    "    \n",
    "    \n",
    "#Excercise: Create a function that finds the unit vector of any given n-dimensional vector \n",
    "#Hint: generalize what was done to obtain the normalizing factor, norm\n",
    "\n",
    "def normalize(vector):\n",
    "    def unitVector"
   ]
  },
  {
   "cell_type": "code",
   "execution_count": 30,
   "metadata": {},
   "outputs": [
    {
     "name": "stdout",
     "output_type": "stream",
     "text": [
      "Inner product of [5 1 3]  and  [4 2 5]  is  37\n",
      "Inner product of [0.+2.j 2.+3.j 3.+0.j 0.+0.j]  and  [1.+1.j 2.+4.j 1.+0.j 0.+1.j]  is  (-7+16j)\n"
     ]
    }
   ],
   "source": [
    "#Inner Product. It's the same numpy function for any set of two vectors\n",
    "\n",
    "#v and u ∈ R^3\n",
    "\n",
    "v = np.array([5,1,3])\n",
    "u = np.array([4,2,5])\n",
    "\n",
    "inner_r3 = np.inner(u,v)\n",
    "\n",
    "print('Inner product of', v, ' and ', u, ' is ', inner_r3)\n",
    "\n",
    "#v and u ∈ C^4\n",
    "\n",
    "v = np.array([2j, 2+3j, 3, 0])\n",
    "u = np.array([1+1j, 2+4j, 1, 1j])\n",
    "\n",
    "inner_c4 = np.inner(u,v)\n",
    "\n",
    "print('Inner product of', v, ' and ', u, ' is ', inner_c4)\n",
    "\n",
    "\n",
    "#Excercise: Create a function that gets the norm of a  complex vector. Bonus if you don't use np.inner()\n",
    "\n",
    "\n"
   ]
  },
  {
   "cell_type": "markdown",
   "metadata": {},
   "source": [
    "   ##  1.5 Dirac Notation \n",
    "   \n",
    "   "
   ]
  },
  {
   "cell_type": "markdown",
   "metadata": {},
   "source": [
    "   ##  1.6 Inner Product"
   ]
  },
  {
   "cell_type": "markdown",
   "metadata": {},
   "source": [
    "   ##  1.7 Linearly Dependent and Independent Vectors"
   ]
  },
  {
   "cell_type": "markdown",
   "metadata": {},
   "source": [
    "   ##  1.8 Dual Vector Space"
   ]
  },
  {
   "cell_type": "markdown",
   "metadata": {},
   "source": [
    "   ##  1.9 Computational Basis"
   ]
  },
  {
   "cell_type": "markdown",
   "metadata": {},
   "source": [
    "   ##  1.10 Outer Product"
   ]
  }
 ],
 "metadata": {
  "kernelspec": {
   "display_name": "Python 3",
   "language": "python",
   "name": "python3"
  },
  "language_info": {
   "codemirror_mode": {
    "name": "ipython",
    "version": 3
   },
   "file_extension": ".py",
   "mimetype": "text/x-python",
   "name": "python",
   "nbconvert_exporter": "python",
   "pygments_lexer": "ipython3",
   "version": "3.8.5"
  }
 },
 "nbformat": 4,
 "nbformat_minor": 4
}
