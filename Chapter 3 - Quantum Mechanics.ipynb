{
 "cells": [
  {
   "cell_type": "markdown",
   "metadata": {},
   "source": [
    "# Chapter 2: Introduction to Quantum Mechanics"
   ]
  },
  {
   "cell_type": "markdown",
   "metadata": {},
   "source": [
    "In the last chapter, we discussed the first set of math tools necessary to understand Quantum Information Theory. This chapter focuses on introducing the underlying physics principles which allows one to build a device that process information using non-deterministic logic, i.e Quantum Mechanics. Quantum Mechanics is a very broad subject that cannot be taught deeply in an introductory chapter, so as I stressed before about vectors, I highly suggest looking into QM as well. For python implementation, I will use a module I built a while back called <a href='https://www.github.com/theheavygluon/QPy'> QPy </a>, which aims at making certin QM problems \"solvable\" in 1 line of code.\n",
    "\n",
    "Warning: Too much unnecessary info"
   ]
  },
  {
   "cell_type": "markdown",
   "metadata": {},
   "source": [
    "  ##  2.1 Determinism and Classical Mechanics\n",
    "  \n",
    " A deterministic system is essentially a system where you can use the present to predict the future. For the most part, that's how things seem to work. If you turn on the heater, you know that the room will get hotter, and if you use correct measurements and have a basic mathematical background, you can construct a quantitative model to describe how the average temperature of the room evolves over time. If you kick a ball, you almost know that its trajectory will have parabolic nature regardless of whether you're a world renowned theoretical physicist or a 5 year old who's played football a few times.\n",
    " \n",
    "You may be finding it weird that I'm stressing on a seemingly trivial point, that we can use the present to predict the future, because it's pretty obvious that that's how things work. Right? Well, as certain phenomena studied in the late 1800s show, our intuition of how the world works is skewed and only acts as a (rather superb) approximation to the scales and speeds we're used to observing. \n",
    "\n",
    "### Modeling Dynamics\n",
    "\n",
    "In high school, one is usually taught to take the approach of describing a particle's dynamics according to the forces which act on it. More specifically, one would use Newton's second law, a differential equation which states that the acceleration of a particle is proportional to the force applied on it, or $F = m\\frac{d^2x}{dt^2}$. Of course this seems to work very well, I mean we're talking about the laws that took us to the moon. However, The truth is that Newton's fomulation of classical mechanics, while works really well in some cases, could be quite limiting in others, for a few reasons. One of the most notable reasons is that Newton's second law  is unique to cartesian coordinates, which isn't always the most convenient coordinate system to describe a particle. For example, a pendulum would be described by 2 degrees of freedom in cartesian coordinates (i.e $x$ and $y$) but only 1 degree of freedom in spherical coordinates (i.e $\\theta$)\n",
    "\n",
    "As a solution, Newtonian Mechanics could be generalized and be reformulated into other formalisms, such as the Hamiltonian formalism, which, although is totally equivalent, uses a different approach to describing a system. \n",
    "\n",
    "The Hamiltonian Formalism uses a function called the Hamiltionian, which is a function of the <a href='https://en.wikipedia.org/wiki/Generalized_coordinates'>generalized coordinates </a> of a particle, as well as its corresponding conjugate momentum. This means that to know *everything* about a particle's state (and how that state evolves), we need to only know its position and momentum. \n",
    "\n",
    "\n",
    "The Hamiltonian is denoted by $H(\\vec{q},\\vec{p})$, where $\\vec{q}$ are the generalized coordinates and $\\vec{p}$ are the generalized momenta (which is now treated as independant to the position, unlike in Newton's formulation). $H$ is equal to the sum of kinetic energy, $T(\\vec{p})$ and potential energy, $V(\\vec{q})$, or\n",
    "\n",
    "<br>\n",
    "\\begin{equation}\n",
    "   H = T + V\n",
    "\\end{equation}\n",
    "\n",
    "which expands to\n",
    "\n",
    "\\begin{equation}\n",
    "   H = \\frac{p^2}{2m} + V(q)\n",
    "\\end{equation}\n",
    "\n",
    "<br>\n",
    "\n",
    "And the system's time evolution of the system (i.e evolution of the state, which, as we stated above, consists of only $q$ and $p$) can be described by Hamilton's Equations:\n",
    "\n",
    "\\begin{equation}\n",
    "   \\frac{dq}{dt} = \\frac{dH}{dp}\n",
    "\\end{equation}\n",
    "and \n",
    "\\begin{equation}\n",
    "   \\frac{dp}{dt} = -\\frac{dH}{dq}\n",
    "\\end{equation}"
   ]
  },
  {
   "cell_type": "markdown",
   "metadata": {},
   "source": [
    "## 2.2 Where Classical Mechanics Fails\n",
    "\n",
    "During late 19th century, it had become apparent that the classical laws which were known for modeling the universe started to fail in certain circumstances. One of the first indicators of this was when Max Planck had solved the ultraviolet catastrophe by proposing a discrete energy model. The ultraviolet catastrophe was a problem based on the inability to theoretically model the distribution of intensity of emmited light as a function of the temperature of an ideal blackbody, $u(v,T)$. **The first attempt was laid by Wein in 1893, where he used classical thermodynamics to derive the following relationship to describe a black-body radiation distribution:**\n",
    "\n",
    "\\begin{equation}\n",
    "    u(v,T) = Av^5e^{-\\frac{\\beta v}{T}}\n",
    "\\end{equation}\n",
    "where $u$ is the intensity, $v$ is the frequency of radiation, $T$ is the temperature, and $A$ and $\\beta$ are empirical scaling constants. \n",
    "\n",
    "\n",
    "Wein's law seemed to match experimental data for high values of frequency, but failed to predict the distribution for low values of frequency (according to Wein's Law, an oven would emmit deadly amounts of radiation). In 1900, a statistical relationship was published that seemed to describe the lower values of frequency very accurately but would diverge from experimental data for high values (Eq. 2). This model was named the Rayleigh-Jeans  Law and was also dismissed for its lack of consistency.\n",
    "\n",
    "\\begin{equation}\n",
    "    u(v,T) = \\frac{2\\pi v^4}{c^3}\\kappa T\n",
    "\\end{equation}\n",
    "where $\\kappa$ is the Boltzman constant. Now that those laws are stated, a more technical definition of the ultraviolet catastrophe can be stated. That definition is the Wein Displacement Law and the Rayleigh-Jeans law, laws that are both derived from classical mechanics, contradicted eachother while trying to explain the same phenomenon. That meant that there must be a flaw in the underlying theoretical frameworks which these law are derived from (i.e the entirety of physics). As a solution to this problem, Max Planck proposed that if the energy that light can interact with was discrete, rather than continuous, the <a href='https://en.wikipedia.org/wiki/Rayleigh–Jeans_law'>Rayleigh-Jeans integral </a> would then have to be solved as a discrete sum. That sum yields the following equation: \n",
    "\n",
    "\\begin{equation}\n",
    "    u(v,T) = \\frac{2\\pi h v^5}{c^3 (e^\\frac{h v}{\\kappa T} - 1)}\n",
    "\\end{equation}\n",
    "\n",
    "This relationship solved the ultraviolet catastrophe, as it was able to model $u(v,T)$ perfectly for all values. The equation above is known as the first law to be derived from an implementation of  quantum mechanics. \n",
    "\n",
    "\n",
    "<br>\n",
    "\n",
    "The following figure plots all three attempts mentioned above for a Black Body with a temperature of 5800K:\n",
    "\n",
    "  <img src=\"assets/bbr.png\" style=\"width: 500px;\">\n",
    "  \n",
    "The concept proposed by Max Planck was then later used by Albert Einstein to solve the Photoelectric Effect problem. In his paper, Einstein applied the premise that the energy exchanged between light and matter was quantized to describe light as particle light. The equation derived from the premise is the following:\n",
    "\n",
    "\\begin{equation}\n",
    "    E = hv - \\phi\n",
    "\\end{equation}\n",
    "where h is Planck's constant, $v$ is the frequency of light and $\n",
    "\\phi$ is the binding energy. That explained why certain materials would spark once light greater than a certain frequency ($v> \\frac{E+\\phi}{h}$) was incident to the metal. deBroglie then took Einstein's mathematical representation of a particle model for light and used it to describe the opposite phenomenon, which is electrons acting like particles. deBroglie described a particle's momentum to be analogous to a wave's wavelength and vice versa, meaning that one would be able to use both interchangeably while describing both waves and particles. The exact relationship is \n",
    "\n",
    "\\begin{equation}\n",
    "    p = h/\\lambda\n",
    "\\end{equation}\n",
    "\n",
    "where $\\lambda$ is the wavelength of a wave and $p$ is the momentum of a particle.\n",
    "\n",
    "Those, as well as several other discoveries, ultimately led to the development of quantum mechanics, which models systems non-deterministically (but more on that on **Section 2.3**)\n",
    "\n"
   ]
  },
  {
   "cell_type": "markdown",
   "metadata": {},
   "source": [
    "### Python Implementation\n"
   ]
  },
  {
   "cell_type": "code",
   "execution_count": 10,
   "metadata": {},
   "outputs": [
    {
     "name": "stdout",
     "output_type": "stream",
     "text": [
      "The Kinetic Energy of The Electrons are:  2.9599999999999997e-17\n",
      "My deBroglie Wavelength is: 8.799999999999998e-37\n",
      "Intensity is:  98529203648304.56\n"
     ]
    }
   ],
   "source": [
    "#Importing QPy, my (limited) quantum mechanics solving module\n",
    "from QPy import *\n",
    "\n",
    "#The Solver or \"QSolve\" feature solves the equations explained above\n",
    "from QPy import Solver as QSolve\n",
    "\n",
    "#QSolve.photoelectric can calculate energy, frequency, bindingE, and threshold\n",
    "#The following is energy(f,phi)\n",
    "\n",
    "KE = QSolve.photoelectric.energy(50000000000000000,0.0000000000000000034)\n",
    "\n",
    "print('The Kinetic Energy of The Electrons are: ', KE)\n",
    "\n",
    "\n",
    "#QSolve.deBroglie can get wavelength from momentum and vice versa\n",
    "#The following is momentum(lambda)\n",
    "\n",
    "my_wavelength = QSolve.deBroglie.wavelength(10*75)\n",
    "print('My deBroglie Wavelength is:', my_wavelength)\n",
    "\n",
    "\n",
    "#QSolve.blackBody can get the intensity u(v,T) using Planck's law\n",
    "#The following is intensity(freq, temp)\n",
    "u = QSolve.blackBody.intensity(10**15,6500)\n",
    "\n",
    "print('Intensity is: ', u)\n",
    "\n",
    "\n",
    "\n",
    "#Exercise: Build the followingfunctions which are equivilent to the QSolve functions\n",
    "\n",
    "def deBroglieWavelength(momentum):\n",
    "    return\n",
    "\n",
    "def planckLaw(freq, temp):\n",
    "    return"
   ]
  },
  {
   "cell_type": "code",
   "execution_count": 14,
   "metadata": {},
   "outputs": [
    {
     "data": {
      "image/png": "[encoded data removed]",
      "text/plain": [
       "<Figure size 432x288 with 1 Axes>"
      ]
     },
     "metadata": {
      "needs_background": "light"
     },
     "output_type": "display_data"
    },
    {
     "name": "stdout",
     "output_type": "stream",
     "text": [
      "\n"
     ]
    }
   ],
   "source": [
    "#The Plotter or \"QPlot\" plots the algebraic equations explained above. \n",
    "\n",
    "from QPy import Plotter as QPlot\n",
    "\n",
    "#Plot u(lambda,T) vs lambda for given T\n",
    "#The following is blackBody(T) where T is temperature in Kelvin. It can either be a number or a list\n",
    "\n",
    "QPlot.blackBody([3900,5500,6000,6500])\n",
    "\n",
    "print('')\n",
    "\n",
    "#Exercise: Use matplotlib to manually plot all three blackBody Laws (i.e Wein, RJ and Planck) for temp = 5800K "
   ]
  },
  {
   "cell_type": "markdown",
   "metadata": {},
   "source": [
    "  ##  2.3 Quantum Mechanics\n",
    "  \n",
    "  In Section 2.1, we stated that a key feature of using classical mechanics to study the dynamics of a system is that you can model it in a deterministic manner. In other words, if you know the current state of a system, and no external factors are introduced, you can almost perfectly predict the future state of the system using classical laws. We then showed that for certain systems, especially those in small scales, these laws do not hold, meaning that a new framework is necessary to describe these systems. That framework is what we call Quantum Mechanics. One important property about a quantum system is that, unlike a classical system it is non-deterministic. In other words, we cannot predict the future state of a system using its current state. As a concequence of the random nature of quantum mechanics, a system's state can no longer described by localized physical quantities such as momentum and position, but are rather described by a dimensionless quantity called the *wavefunction*, which, once squared, gives the probability distribution of a particle being at every possible state in any given time. Sections 2.3 and 2.4 aim at briefly explaining how these laws can be used to model a system."
   ]
  },
  {
   "cell_type": "code",
   "execution_count": null,
   "metadata": {},
   "outputs": [],
   "source": []
  },
  {
   "cell_type": "markdown",
   "metadata": {},
   "source": [
    "  ##  2.4 The Schrodinger Equation"
   ]
  },
  {
   "cell_type": "markdown",
   "metadata": {},
   "source": [
    "  ##  2.5 Takeaways for QC\n",
    "  \n",
    "  \n",
    "  ### Postulates of QM"
   ]
  },
  {
   "cell_type": "code",
   "execution_count": null,
   "metadata": {},
   "outputs": [],
   "source": []
  }
 ],
 "metadata": {
  "kernelspec": {
   "display_name": "Python 3",
   "language": "python",
   "name": "python3"
  },
  "language_info": {
   "codemirror_mode": {
    "name": "ipython",
    "version": 3
   },
   "file_extension": ".py",
   "mimetype": "text/x-python",
   "name": "python",
   "nbconvert_exporter": "python",
   "pygments_lexer": "ipython3",
   "version": "3.8.5"
  }
 },
 "nbformat": 4,
 "nbformat_minor": 4
}
